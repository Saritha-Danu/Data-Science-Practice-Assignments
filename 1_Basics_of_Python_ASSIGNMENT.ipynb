{
  "cells": [
    {
      "cell_type": "markdown",
      "id": "31b23786-b57c-4e08-bc42-5a3f072c3435",
      "metadata": {
        "id": "31b23786-b57c-4e08-bc42-5a3f072c3435"
      },
      "source": [
        "## Question-1"
      ]
    },
    {
      "cell_type": "code",
      "execution_count": null,
      "id": "8668f71f-4531-406a-8afb-c4e115f686f2",
      "metadata": {
        "id": "8668f71f-4531-406a-8afb-c4e115f686f2",
        "outputId": "4949359b-6e66-441c-be24-4f2e8a79e7f3"
      },
      "outputs": [
        {
          "name": "stdin",
          "output_type": "stream",
          "text": [
            "Enter a number:  23\n"
          ]
        },
        {
          "name": "stdout",
          "output_type": "stream",
          "text": [
            "True\n"
          ]
        }
      ],
      "source": [
        "n = int(input(\"Enter a number: \"))\n",
        "def is_prime(n):\n",
        "    if n<=1:\n",
        "        return False\n",
        "    for i in range(2, int(n**0.5)+1):\n",
        "        if n%i == 0:\n",
        "            return False\n",
        "    return True\n",
        "print(is_prime(n))\n",
        ""
      ]
    },
    {
      "cell_type": "markdown",
      "id": "5b08e3cf-6f95-469e-ad98-56a3f32e4f03",
      "metadata": {
        "id": "5b08e3cf-6f95-469e-ad98-56a3f32e4f03"
      },
      "source": [
        "## Question-2"
      ]
    },
    {
      "cell_type": "code",
      "execution_count": null,
      "id": "76290e9a-6d87-49a3-9056-ea8004b624fb",
      "metadata": {
        "id": "76290e9a-6d87-49a3-9056-ea8004b624fb",
        "outputId": "1b1cc3dc-b3b5-42bb-c318-03253102cbf5"
      },
      "outputs": [
        {
          "name": "stdout",
          "output_type": "stream",
          "text": [
            "10 4\n"
          ]
        },
        {
          "name": "stdin",
          "output_type": "stream",
          "text": [
            "num_1 x num_2 = 11\n"
          ]
        },
        {
          "name": "stdout",
          "output_type": "stream",
          "text": [
            "Your answer is Wrong. \n",
            "Correct answer is 40\n"
          ]
        }
      ],
      "source": [
        "import random\n",
        "num_1 = random.randint(1, 10)\n",
        "num_2 = random.randint(1, 10)\n",
        "print(num_1, num_2)\n",
        "ans = num_1 * num_2\n",
        "\n",
        "user_ans = int(input(\"num_1 x num_2 =\"))\n",
        "if ans==user_ans:\n",
        "    print(\"Your answer is correct!\")\n",
        "else:\n",
        "    print(\"Your answer is Wrong. \\nCorrect answer is\", ans)\n"
      ]
    },
    {
      "cell_type": "markdown",
      "id": "4a18a784-f8de-4dad-8807-32e5b3063601",
      "metadata": {
        "id": "4a18a784-f8de-4dad-8807-32e5b3063601"
      },
      "source": [
        "## Question-3"
      ]
    },
    {
      "cell_type": "code",
      "execution_count": null,
      "id": "952d008a-e987-4b38-a509-f72d1a59e8cb",
      "metadata": {
        "id": "952d008a-e987-4b38-a509-f72d1a59e8cb",
        "outputId": "470c4b47-31f3-4ba0-ad00-ed17525836a7"
      },
      "outputs": [
        {
          "name": "stdout",
          "output_type": "stream",
          "text": [
            "10000\n",
            "10404\n",
            "10816\n",
            "11236\n",
            "11664\n",
            "12100\n",
            "12544\n",
            "12996\n",
            "13456\n",
            "13924\n",
            "14400\n",
            "14884\n",
            "15376\n",
            "15876\n",
            "16384\n",
            "16900\n",
            "17424\n",
            "17956\n",
            "18496\n",
            "19044\n",
            "19600\n",
            "20164\n",
            "20736\n",
            "21316\n",
            "21904\n",
            "22500\n",
            "23104\n",
            "23716\n",
            "24336\n",
            "24964\n",
            "25600\n",
            "26244\n",
            "26896\n",
            "27556\n",
            "28224\n",
            "28900\n",
            "29584\n",
            "30276\n",
            "30976\n",
            "31684\n",
            "32400\n",
            "33124\n",
            "33856\n",
            "34596\n",
            "35344\n",
            "36100\n",
            "36864\n",
            "37636\n",
            "38416\n",
            "39204\n",
            "40000\n"
          ]
        }
      ],
      "source": [
        "# Square of Even Number in range (100, 200)\n",
        "for i in range(100, 201):\n",
        "    if i%2==0:\n",
        "        print(i**2)\n",
        ""
      ]
    },
    {
      "cell_type": "markdown",
      "id": "548c0c72-3760-4cf8-ad8c-11e37a910da2",
      "metadata": {
        "id": "548c0c72-3760-4cf8-ad8c-11e37a910da2"
      },
      "source": [
        "## Question-4"
      ]
    },
    {
      "cell_type": "code",
      "execution_count": null,
      "id": "d0a29d6e-ac06-4a7c-8df3-b4f5053eee14",
      "metadata": {
        "id": "d0a29d6e-ac06-4a7c-8df3-b4f5053eee14",
        "outputId": "759003d3-46c3-43b7-da30-a0436cbc65e6"
      },
      "outputs": [
        {
          "name": "stdin",
          "output_type": "stream",
          "text": [
            "Enter you text: This is a sample text. This text will be used to demonstrate the word counter.\n"
          ]
        },
        {
          "name": "stdout",
          "output_type": "stream",
          "text": [
            "'This': 2\n",
            "'is': 1\n",
            "'a': 1\n",
            "'sample': 1\n",
            "'text.': 1\n",
            "'text': 1\n",
            "'will': 1\n",
            "'be': 1\n",
            "'used': 1\n",
            "'to': 1\n",
            "'demonstrate': 1\n",
            "'the': 1\n",
            "'word': 1\n",
            "'counter.': 1\n"
          ]
        }
      ],
      "source": [
        "def word_count(text):\n",
        "    # Split's text into words\n",
        "    words = text.split()\n",
        "\n",
        "    # create a dict to store word count\n",
        "    word_counts = {}\n",
        "\n",
        "    for word in words:\n",
        "        # Check if word in already present in dict\n",
        "        if word in word_counts:\n",
        "            word_counts[word]+= 1\n",
        "        else:\n",
        "            word_counts[word] = 1\n",
        "    return word_counts\n",
        "\n",
        "input_text = input(\"Enter you text:\")\n",
        "# word_counts stores the reutured dict from word_count(text)\n",
        "word_counts = word_count(input_text)\n",
        "\n",
        "for word,count in word_counts.items():\n",
        "    print(f\"'{word}': {count}\")\n",
        "\n",
        ""
      ]
    },
    {
      "cell_type": "markdown",
      "id": "6b3253e3-c76f-4fdb-9d19-67b5c39cad8c",
      "metadata": {
        "id": "6b3253e3-c76f-4fdb-9d19-67b5c39cad8c"
      },
      "source": [
        "## Question-5"
      ]
    },
    {
      "cell_type": "code",
      "execution_count": null,
      "id": "27e79561-3e8b-43f9-898e-aa50d314207f",
      "metadata": {
        "id": "27e79561-3e8b-43f9-898e-aa50d314207f",
        "outputId": "9661aae9-06c2-4c6b-d1de-8cc26b783212"
      },
      "outputs": [
        {
          "name": "stdout",
          "output_type": "stream",
          "text": [
            "True\n",
            "True\n",
            "True\n",
            "True\n",
            "False\n"
          ]
        }
      ],
      "source": [
        "def is_palindrome(text):\n",
        "    # Convert input text into Lower case & remove all non-alphanumeric character's\n",
        "    text = \" \".join(c for c in text.lower() if c.isalnum())\n",
        "\n",
        "    # Check if text is same both forward and backward\n",
        "    return text == text[::-1]\n",
        "\n",
        "print(is_palindrome(\"Madam\"))\n",
        "print(is_palindrome(\"A Santa at NASA\"))\n",
        "print(is_palindrome(\"1234321\"))\n",
        "print(is_palindrome(\"Madam, in Eden I'm Adam\"))\n",
        "print(is_palindrome(\"Palindrome\"))\n",
        ""
      ]
    }
  ],
  "metadata": {
    "kernelspec": {
      "display_name": "Python 3 (ipykernel)",
      "language": "python",
      "name": "python3"
    },
    "language_info": {
      "codemirror_mode": {
        "name": "ipython",
        "version": 3
      },
      "file_extension": ".py",
      "mimetype": "text/x-python",
      "name": "python",
      "nbconvert_exporter": "python",
      "pygments_lexer": "ipython3",
      "version": "3.11.7"
    },
    "colab": {
      "provenance": []
    }
  },
  "nbformat": 4,
  "nbformat_minor": 5
}